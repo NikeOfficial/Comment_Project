{
 "cells": [
  {
   "cell_type": "code",
   "execution_count": 2,
   "metadata": {
    "collapsed": false
   },
   "outputs": [
    {
     "name": "stdout",
     "output_type": "stream",
     "text": [
      "[['Kanye', 'He', 'B+', 'Writing Codes and has consistently finished homework', 'A-', 'Collaborating with Peers', '93%', 'Sufficient', '20%', 'Teacher-comment Writing Project\\n'], ['Jane', 'She', 'A', 'Collaborating with peers', 'A', 'Completing homework', '99%', 'None', '0%', 'Craps Project\\n'], ['John', 'He', 'C+', 'working-hard and has performed well on tests', 'C+', 'Completing homework and problem sets', '55%', 'None', '-20%', 'None\\n'], ['Kim', 'She', 'D', 'Completing homework', 'C-', \"Can't focus during class\", '93%', 'Medium', '10%', 'Scrabbles Project\\n'], ['Miley', 'She', 'A-', 'Completing high-quality projects', 'A-', 'Sometimes not finishing homework.', '92%', 'Sufficient', '0%', 'Bank Project']]\n"
     ]
    }
   ],
   "source": [
    "with open('Comments.csv') as f:\n",
    "    header = f.readline().split()\n",
    "    infos = []\n",
    "    for line in f:\n",
    "        line = line.split(',')\n",
    "        infos.append(line)\n",
    "print(infos)"
   ]
  },
  {
   "cell_type": "code",
   "execution_count": 3,
   "metadata": {
    "collapsed": false
   },
   "outputs": [
    {
     "name": "stdout",
     "output_type": "stream",
     "text": [
      "{'Kanye': ['He', 'B+', 'Writing Codes and has consistently finished homework', 'A-', 'Collaborating with Peers', '93%', 'Sufficient', '20%', 'Teacher-comment Writing Project\\n'], 'Jane': ['She', 'A', 'Collaborating with peers', 'A', 'Completing homework', '99%', 'None', '0%', 'Craps Project\\n'], 'John': ['He', 'C+', 'working-hard and has performed well on tests', 'C+', 'Completing homework and problem sets', '55%', 'None', '-20%', 'None\\n'], 'Kim': ['She', 'D', 'Completing homework', 'C-', \"Can't focus during class\", '93%', 'Medium', '10%', 'Scrabbles Project\\n'], 'Miley': ['She', 'A-', 'Completing high-quality projects', 'A-', 'Sometimes not finishing homework.', '92%', 'Sufficient', '0%', 'Bank Project']}\n"
     ]
    }
   ],
   "source": [
    "def ss_info(comments):\n",
    "    '''Take in student information and return a dictionary where the keys are students name and values are their comment-information.'''\n",
    "    info = {}\n",
    "    for ss in comments:\n",
    "        info[ss[0]] = ss[1:10]\n",
    "    return info\n",
    "print(ss_info(infos))"
   ]
  },
  {
   "cell_type": "code",
   "execution_count": 4,
   "metadata": {
    "collapsed": false
   },
   "outputs": [
   ],
   "source": [
    "#Course Description\n",
    "# we channelled our inner matt and lauren when writing this description (i.e. we ripped this from the syllabus)\n",
    "course_description = 'This semester in Computer Science, through a project-based approach, students will work towards mastering the fundamentals of computational thinking and problem-solving using the Python programming language.  A successful student will know Python syntax, data types, program organization, algorithm design, and control structures.  A successful student will be able to develop efficient, readable algorithms and debug code when necessary.'"
   ]
  },
  {
   "cell_type": "code",
   "execution_count": 17,
   "metadata": {
    "collapsed": false
   },
   "outputs": [
    {
     "data": {
      "text/plain": [
       "'Miley excelled at completing high-quality projects all semester.'"
      ]
     },
     "execution_count": 17,
     "metadata": {
     },
     "output_type": "execute_result"
    }
   ],
   "source": [
    "#Strengths\n",
    "def strengths(name):\n",
    "    '''takes in students strengths and makes a sentence to add to the comment'''\n",
    "    info = (ss_info(infos))\n",
    "    strength = info[name][2].lower()\n",
    "    return f\"{name} excelled at {strength} all semester.\"\n",
    "strengths(\"Miley\")"
   ]
  },
  {
   "cell_type": "code",
   "execution_count": 18,
   "metadata": {
    "collapsed": false
   },
   "outputs": [
    {
     "data": {
      "text/plain": [
       "'John is struggling in the class and has not shown any improvement.'"
      ]
     },
     "execution_count": 18,
     "metadata": {
     },
     "output_type": "execute_result"
    }
   ],
   "source": [
    "#Progression of Grades\n",
    "def progression(name):\n",
    "    '''considers how much improvement the student showed'''\n",
    "    info = (ss_info(infos))\n",
    "    pronoun = info[name][0].lower()\n",
    "    p = p2f(info[name][7])\n",
    "    g = info[name][3][0]\n",
    "    if g == \"A\":\n",
    "        if p > 0:\n",
    "            return f\"{name} struggled slightly in the beginning of the semester but eventually gained a firm grasp on the concepts and has shown significant improvement in the class.\"\n",
    "        if p == 0:\n",
    "            return f\"{name} has shown a general mastery of all concepts throughout the year and has consistently shown exemplary work.\"\n",
    "        if p<0:\n",
    "            return f\"{name} showed a a mastery of early topics but has slightly faltered towards the end of the year. I would recomend we meet to review some of the later topics. \"\n",
    "    if g == \"B\":\n",
    "        if p > 0:\n",
    "            return f\"{name} struggled slightly in the beginning of the semester but eventually gained a firm grasp on the concepts and has shown significant improvement in the class.\"\n",
    "        if p == 0:\n",
    "            return f\"{name} has shown a general understanding of all concepts throughout the year but has yet to show mastery.\"\n",
    "        if p<0:\n",
    "            return f\"{name} showed an understanding of early topics but has their work faltered towards the end of the year. I would recomend we meet to review some of the later topics.\"\n",
    "    if g == \"C\":\n",
    "            if p > 0:\n",
    "                return f\"{name} struggled significantly in the beginning of the semester but eventually began showing a slight understanding. I would reccomend that {pronoun} review some of the beginning topics.\"\n",
    "            if p == 0:\n",
    "                return f\"{name} has shown a slight understanding of all concepts throughout the year but has yet to show satisfactory work.\"\n",
    "            if p<0:\n",
    "                return f\"{name} is struggling in the class and has not shown any improvement.\"\n",
    "    if g == \"D\":\n",
    "            if p > 0:\n",
    "                return f\"{name} struggled significantly in the beginning of the semester but eventually began showing a slight understanding. I would reccomend that {pronoun} review some of the beginning topics.\"\n",
    "            if p == 0:\n",
    "                return f\"{name} has shown a very little understanding of any of the concepts throughout the year and has yet to show satisfactory work.\"\n",
    "            if p < 0:\n",
    "                return f\"{name} is struggling in the class and has not shown any improvement.\"\n",
    "    else:\n",
    "        return f\"{name} has shown very little improvement and displays no understanding of any of the concepts.\"\n",
    "progression(\"John\")"
   ]
  },
  {
   "cell_type": "code",
   "execution_count": 33,
   "metadata": {
    "collapsed": false
   },
   "outputs": [
    {
     "data": {
      "text/plain": [
       "\"He has shown exemplary work on the problem sets and that is reflected in Kanye's grade.\""
      ]
     },
     "execution_count": 33,
     "metadata": {
     },
     "output_type": "execute_result"
    }
   ],
   "source": [
    "#Problem Sets Average, (comment based on percentage)\n",
    "def PS(name):\n",
    "    '''considers problem sets in relation to the persons grade'''\n",
    "    info = (ss_info(infos))\n",
    "    pronoun = info[name][0]\n",
    "    ps = p2f(info[name][5])\n",
    "    g = info[name][3][0]\n",
    "    if g == \"A\":\n",
    "        if ps >= .93:\n",
    "            return f\"{pronoun} has shown exemplary work on the problem sets and that is reflected in {name}'s grade.\"\n",
    "        if .8<=ps< .93:\n",
    "            return f\"{pronoun} has shown satisfactory work on the problem sets and improving their problem set would directly influence their final grade.\"\n",
    "        if ps<.8:\n",
    "            return f\"{pronoun} has shown poor work on the problem sets which is directly affecting their grade. Improving their problem set grade would help their final grade significantly.\"\n",
    "    if g == \"B\":\n",
    "        if ps >= .93:\n",
    "            return f\"{pronoun} has shown exemplary work on the problem sets which is not reflected in {name}'s grade.\"\n",
    "        if .8<=ps< .93:\n",
    "            return f\"{pronoun} has shown satisfactory work on the problem sets and that is reflected in {name}'s grade.\"\n",
    "        if ps<.8:\n",
    "            return f\"{pronoun} has shown poor work on the problem sets which is directly affecting their grade. Improving their problem set grade would help their final grade significantly.\"\n",
    "    if g == \"C\":\n",
    "        if ps >= .93:\n",
    "            return f\"{pronoun} has shown exemplary work on the problem sets.\"\n",
    "        if .8<=ps< .93:\n",
    "            return f\"{pronoun} has shown satisfactory work on the problem sets.\"\n",
    "        if ps<.8:\n",
    "            return f\"{pronoun} has shown poor work on the problem sets which is shown in {name}'s final grade.\"\n",
    "    if g == \"D\":\n",
    "        if ps >= .93:\n",
    "            return f\"{pronoun} has shown exemplary work on the problem sets.\"\n",
    "        if .8<=ps< .93:\n",
    "            return f\"{pronoun} has shown satisfactory work on the problem sets.\"\n",
    "        if ps<.8:\n",
    "            return f\"{pronoun} has shown poor work on the problem sets which is shown in {name}'s final grade.\"\n",
    "    else:\n",
    "        return f\"{name} needs to show a greater understanding of all concepts in all assignments.\"\n",
    "PS(\"Kanye\")"
   ]
  },
  {
   "cell_type": "code",
   "execution_count": 19,
   "metadata": {
    "collapsed": false
   },
   "outputs": [
    {
     "name": "stdout",
     "output_type": "stream",
     "text": [
      "Jane has not needed to come to see me outside of class for extra help, as she graps the content easily.\n"
     ]
    }
   ],
   "source": [
    "#Communication w/ Lauren\n",
    "def p2f(x):\n",
    "    '''goes from percentage to decimal'''\n",
    "    return int(x.strip('%'))/100\n",
    "\n",
    "def comments_communicate(name):\n",
    "    '''Take in a name of the student and return his/hers comment on communication with teacher.'''\n",
    "    comments = ''\n",
    "    info = ss_info(infos)[name]\n",
    "    communication = info[6].lower()\n",
    "    PSgrade = p2f(info[5])\n",
    "    pronoun = info[0].lower()\n",
    "    if communication == 'sufficient':\n",
    "        comments = f'{name} communicates very well with me. I really enjoyed talking about the wonderful ideas {pronoun} has, and I would encourage also communicating more with peers.'\n",
    "    if communication == 'medium':\n",
    "        if PSgrade >= 0.93:\n",
    "            comments = f'{name} sometimes seek help from me, which I would encourage {pronoun} to talk with me more when having problems.Still,{pronoun} maintains a good level of understanding, reflected by an average of {PSgrade} of problem sets.'\n",
    "        else:\n",
    "            comments = f'{name} sometimes seek help from me; I would encourage {pronoun} to talk with me more when having problems. '\n",
    "    if communication == 'none':\n",
    "        if PSgrade >= 0.93:\n",
    "            comments = f'{name} has not needed to come to see me outside of class for extra help, as {pronoun} graps the content easily.'\n",
    "        else:\n",
    "            comments = f'I would encourage {name} to talk with me more, considering that our problem sets are sometimes more challenging. Computer science is a challenging course, in general, and it is very important to communicate and collaborate with different people!'\n",
    "    return comments\n",
    "\n",
    "\n",
    "print(comments_communicate('Jane'))"
   ]
  },
  {
   "cell_type": "code",
   "execution_count": 20,
   "metadata": {
    "collapsed": false
   },
   "outputs": [
    {
     "name": "stdout",
     "output_type": "stream",
     "text": [
      "Kim has received an C- on final exam.Although she did a good job at most problem sets with an average of 93%, she struggled a little about the transition of putting coding language into real-life application during exams.Over the course of time, I believe that she will gradually find a way of mastering it.\n"
     ]
    }
   ],
   "source": [
    "#Final Grade Comment\n",
    "def final_grade(name):\n",
    "    '''Take in a name of the student and return his/hers comment on final grade.'''\n",
    "    comments = ''\n",
    "    info = ss_info(infos)[name]\n",
    "    final = info[3]\n",
    "    PSgrade = p2f(info[5])\n",
    "    pronoun = info[0].lower()\n",
    "    tests = info[1]\n",
    "    if final == 'A' or final == 'A-':\n",
    "        if tests != 'A':\n",
    "            comments = f'{name} has received an {final} on final exam, which clearly reflected a progression over the course of time comparing to her cumulative test grade {tests}. Although computer science is a relatively advanced course with mathematical basis, {pronoun} still maintains good learning habit and, therefore, completed the course with great precision.'\n",
    "    if final == 'B' or final == 'B+':\n",
    "        if PSgrade >= 0.93:\n",
    "            comments = f'{name} has received an {final} on final exam, which suggests that {pronoun} is adequate to solve fundamental problems by utilizing CS knowledge. An problem set average of {PSgrade} indicates an ability to solve problems digitally. I would recommend {name} to focus more on details of coding, and try to figure out a way to improve the learning process.'\n",
    "        else:\n",
    "            comments = f'{name} has received an {final} on final exam, which suggests that {pronoun} is adequate to solve fundamental problems by utilizing CS knowledge.I would encourage {name} to meet with me more when having troubles solving problems.'\n",
    "    if final == 'C' or final == 'C+':\n",
    "        comments = f'{name} has received an {final} on final exam.{pronoun.title()} needs to come to see me more outside of class for extra help and {pronoun} should not be afraid of asking questions.Although {pronoun} struggled a little about the transition of putting coding language into real-life application, I believe that {pronoun} will gradually find a way of mastering it.'\n",
    "    else:\n",
    "        if PSgrade >= 0.93:\n",
    "            comments = f'{name} has received an {final} on final exam.Although {pronoun} did a good job at most problem sets with an average of {info[5]}, {pronoun} struggled a little about the transition of putting coding language into real-life application during exams.Over the course of time, I believe that {pronoun} will gradually find a way of mastering it.'\n",
    "        else:\n",
    "            comments = f'{name} has received an {final} on final exam.Although{pronoun} struggled a little about the transition of putting coding language into real-life application during exams,I believe that {pronoun} will gradually find a way of mastering it.I encourage talking with me and peers because it will help you a lot.'\n",
    "    return comments\n",
    "\n",
    "\n",
    "print(final_grade('Kim'))"
   ]
  },
  {
   "cell_type": "code",
   "execution_count": 28,
   "metadata": {
    "collapsed": false
   },
   "outputs": [
    {
     "name": "stdout",
     "output_type": "stream",
     "text": [
      "This semester, Kanye finished several projects. Remarkably, the Teacher-comment Writing Project was one of the best projects we had in class. This was a great project that integrated content across the curriculum while providing opportunities for differentiation and for all students to use their own personal strengths and styles to solve a problem. I am glad that he is improving, and I would like to see more interesting ideas and programs in the future. :)\n"
     ]
    }
   ],
   "source": [
    "#Remarkable Project\n",
    "import random as r\n",
    "def project(name):\n",
    "    info = ss_info(infos)[name]\n",
    "    project = info[8].strip('\\n')\n",
    "    pronoun = info[0].lower()\n",
    "    choices = ['This was a great project that integrated content across the curriculum while providing opportunities for differentiation and for all students to use their own personal strengths and styles to solve a problem.','It was a fabulous subject for interdisciplinary learning, especially in regard to its connection to everyday life. The student was excited to new understanding of design concepts and the application mathematics knowledge to complete their projects in preparation for sharing them with others.','The real-life aspect encouraged student investment in the activity and improved the quality of their work.','It provided students with various problem solving techniques and tools that could be used by all and gave them ideas and possible choices for future learning.']\n",
    "    comment = f\"This semester, {name} finished several projects. Remarkably, the {project} was one of the best projects we had in class. {''.join(r.choices(choices))} I am glad that {pronoun} is improving, and I would like to see more interesting ideas and programs in the future. :)\"\n",
    "    return comment\n",
    "print(project('Kanye'))"
   ]
  },
  {
   "cell_type": "code",
   "execution_count": 34,
   "metadata": {
    "collapsed": false
   },
   "outputs": [
    {
     "data": {
      "text/plain": [
       "'Comment for Jane is done!'"
      ]
     },
     "execution_count": 34,
     "metadata": {
     },
     "output_type": "execute_result"
    }
   ],
   "source": [
    "#Final Comment Generator\n",
    "def final_comment(name):\n",
    "    '''makes th'''\n",
    "    variation = strengths(name) +\" \"+ PS(name)+\" \"+progression(name)+ \" \"+comments_communicate(name)+\" \"+final_grade(name)+\" \"+project(name)\n",
    "    comment = '\\n\\n'.join([course_description,variation])\n",
    "    file = f'{name}.txt'\n",
    "    with open(file,'w') as f:\n",
    "            f.write(comment)\n",
    "    return f'Comment for {name} is done!'\n",
    "final_comment('Jane')"
   ]
  },
  {
   "cell_type": "code",
   "execution_count": 16,
   "metadata": {
    "collapsed": false
   },
   "outputs": [
   ],
   "source": [
    "for row in infos:\n",
    "    final_comment(row[0])\n"
   ]
  },
  {
   "cell_type": "code",
   "execution_count": 0,
   "metadata": {
    "collapsed": false
   },
   "outputs": [
   ],
   "source": [
   ]
  }
 ],
 "metadata": {
  "kernelspec": {
   "display_name": "Python 3 (system-wide)",
   "language": "python",
   "metadata": {
    "cocalc": {
     "description": "Python 3 programming language",
     "priority": 100,
     "url": "https://www.python.org/"
    }
   },
   "name": "python3"
  },
  "language_info": {
   "codemirror_mode": {
    "name": "ipython",
    "version": 3
   },
   "file_extension": ".py",
   "mimetype": "text/x-python",
   "name": "python",
   "nbconvert_exporter": "python",
   "pygments_lexer": "ipython3",
   "version": "3.6.9"
  }
 },
 "nbformat": 4,
 "nbformat_minor": 0
}